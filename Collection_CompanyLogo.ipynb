{
 "metadata": {
  "language_info": {
   "codemirror_mode": {
    "name": "ipython",
    "version": 3
   },
   "file_extension": ".py",
   "mimetype": "text/x-python",
   "name": "python",
   "nbconvert_exporter": "python",
   "pygments_lexer": "ipython3",
   "version": "3.8.2"
  },
  "orig_nbformat": 4,
  "kernelspec": {
   "name": "python3",
   "display_name": "Python 3.8.2 64-bit"
  },
  "interpreter": {
   "hash": "45867f42ff2337de82c22d4f73950fc203898d310634260cfe149a7f7cbe7910"
  }
 },
 "nbformat": 4,
 "nbformat_minor": 2,
 "cells": [
  {
   "cell_type": "code",
   "execution_count": null,
   "metadata": {},
   "outputs": [],
   "source": [
    "\"\"\"\n",
    "A newly opened multinational brand has decided to base their company logo on the three most common characters in the company name. They are now trying out various combinations of company names and logos based on this condition. Given a string , which is the company name in lowercase letters, your task is to find the top three most common characters in the string.\n",
    "\n",
    "Print the three most common characters along with their occurrence count.\n",
    "Sort in descending order of occurrence count.\n",
    "If the occurrence count is the same, sort the characters in alphabetical order.\n",
    "For example, according to the conditions described above,\n",
    "\n",
    " would have it's logo with the letters .\n",
    "\n",
    "Input Format\n",
    "\n",
    "A single line of input containing the string .\n",
    "\n",
    "Constraints\n",
    "\n",
    " has at least  distinct characters\n",
    "Output Format\n",
    "\n",
    "Print the three most common characters along with their occurrence count each on a separate line.\n",
    "Sort output in descending order of occurrence count.\n",
    "If the occurrence count is the same, sort the characters in alphabetical order.\n",
    "\n",
    "Sample Input 0\n",
    "\n",
    "aabbbccde\n",
    "Sample Output 0\n",
    "\n",
    "b 3\n",
    "a 2\n",
    "c 2\n",
    "Explanation 0\n",
    "\n",
    "\n",
    "Here, b occurs  times. It is printed first.\n",
    "Both a and c occur  times. So, a is printed in the second line and c in the third line because a comes before c in the alphabet.\n",
    "\n",
    "Note: The string  has at least  distinct characters.\n",
    "\"\"\""
   ]
  },
  {
   "cell_type": "code",
   "execution_count": 49,
   "metadata": {},
   "outputs": [
    {
     "output_type": "stream",
     "name": "stdout",
     "text": [
      "jjjjfftthsccctj\n{'j': 5, 'f': 2, 't': 3, 'h': 1, 's': 1, 'c': 3}\n"
     ]
    }
   ],
   "source": [
    "#implementing counter with dictionary\n",
    "\n",
    "s = input()\n",
    "print(s)\n",
    "out3 = dict()\n",
    "for c in s:\n",
    "    #print(c)\n",
    "    try:\n",
    "        out3[c] = out3[c]+1\n",
    "    except:\n",
    "        out3[c] = 1\n",
    "print(out3)\n",
    "#out3.values()"
   ]
  },
  {
   "cell_type": "code",
   "execution_count": 4,
   "metadata": {},
   "outputs": [
    {
     "output_type": "stream",
     "name": "stdout",
     "text": [
      "jjjjfftthsccctj\ndefaultdict(<class 'int'>, {'j': 5, 'f': 2, 't': 3, 'h': 1, 's': 1, 'c': 3})\n"
     ]
    }
   ],
   "source": [
    "#implementing counter with dictionary - default dictionaary\n",
    "from collections import defaultdict\n",
    "\n",
    "s = input()\n",
    "print(s)\n",
    "out3 = defaultdict(int)\n",
    "for c in s:\n",
    "    #print(c)\n",
    "    #try:\n",
    "        out3[c] = out3[c]+1\n",
    "    #except:\n",
    "        #out3[c] = 1\n",
    "print(out3)\n",
    "#out3.values()"
   ]
  },
  {
   "cell_type": "code",
   "execution_count": 40,
   "metadata": {},
   "outputs": [
    {
     "output_type": "stream",
     "name": "stdout",
     "text": [
      "bbbbaaaallllll\nb\na\nl\nl 6\na 4\nb 4\n"
     ]
    }
   ],
   "source": [
    "#using collections ****Worked\n",
    "\n",
    "import collections\n",
    "\n",
    "s = input()\n",
    "print(s)\n",
    "out = collections.Counter(s)\n",
    "\n",
    "def keyfunc(x):\n",
    "    print(x)\n",
    "    return (-out[x],x)\n",
    "\n",
    "\n",
    "\n",
    "#out\n",
    "i = 1\n",
    "for w in sorted(out, key= keyfunc, reverse=False):\n",
    "    if (i>3):\n",
    "        break\n",
    "    print(w, out[w])\n",
    "    i+=1"
   ]
  },
  {
   "cell_type": "code",
   "execution_count": 50,
   "metadata": {},
   "outputs": [
    {
     "output_type": "stream",
     "name": "stdout",
     "text": [
      "Counter({'l': 6, 'b': 4, 'a': 4})\na 4\nb 4\nl 6\n"
     ]
    }
   ],
   "source": [
    "#improvise\n",
    "\n",
    "import collections\n",
    "\n",
    "out = collections.Counter(input())\n",
    "print(out)\n",
    "#out\n",
    "i = 1\n",
    "for key,value in sorted(out.items(), key= lambda x: (-out[x],x), reverse=False)[:3]:\n",
    "    print(key, value)\n",
    "    i+=1"
   ]
  },
  {
   "cell_type": "code",
   "execution_count": null,
   "metadata": {},
   "outputs": [],
   "source": []
  }
 ]
}