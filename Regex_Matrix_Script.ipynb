{
 "metadata": {
  "language_info": {
   "codemirror_mode": {
    "name": "ipython",
    "version": 3
   },
   "file_extension": ".py",
   "mimetype": "text/x-python",
   "name": "python",
   "nbconvert_exporter": "python",
   "pygments_lexer": "ipython3",
   "version": "3.8.2"
  },
  "orig_nbformat": 4,
  "kernelspec": {
   "name": "python3",
   "display_name": "Python 3.8.2 64-bit"
  },
  "interpreter": {
   "hash": "45867f42ff2337de82c22d4f73950fc203898d310634260cfe149a7f7cbe7910"
  }
 },
 "nbformat": 4,
 "nbformat_minor": 2,
 "cells": [
  {
   "cell_type": "code",
   "execution_count": null,
   "metadata": {},
   "outputs": [],
   "source": [
    "\"\"\"\n",
    "Neo has a complex matrix script. The matrix script is a  X  grid of strings. It consists of alphanumeric characters, spaces and symbols (!,@,#,$,%,&).\n",
    "\n",
    "Capture.JPG\n",
    "\n",
    "To decode the script, Neo needs to read each column and select only the alphanumeric characters and connect them. Neo reads the column from top to bottom and starts reading from the leftmost column.\n",
    "\n",
    "If there are symbols or spaces between two alphanumeric characters of the decoded script, then Neo replaces them with a single space '' for better readability.\n",
    "\n",
    "Neo feels that there is no need to use 'if' conditions for decoding.\n",
    "\n",
    "Alphanumeric characters consist of: [A-Z, a-z, and 0-9].\n",
    "\n",
    "Input Format\n",
    "\n",
    "The first line contains space-separated integers  (rows) and  (columns) respectively.\n",
    "The next  lines contain the row elements of the matrix script.\n",
    "\n",
    "Constraints\n",
    "\n",
    "\n",
    "Note: A  score will be awarded for using 'if' conditions in your code.\n",
    "\n",
    "Output Format\n",
    "\n",
    "Print the decoded matrix script.\n",
    "\n",
    "Sample Input 0\n",
    "\n",
    "7 3\n",
    "Tsi\n",
    "h%x\n",
    "i #\n",
    "sM \n",
    "$a \n",
    "#t%\n",
    "ir!\n",
    "Sample Output 0\n",
    "\n",
    "This is Matrix#  %!\n",
    "Explanation 0\n",
    "\n",
    "The decoded script is:\n",
    "\n",
    "This$#is% Matrix#  %!\n",
    "Neo replaces the symbols or spaces between two alphanumeric characters with a single space   ' ' for better readability.\n",
    "\n",
    "So, the final decoded script is:\n",
    "\n",
    "This is Matrix#  %!\n",
    "\"\"\""
   ]
  },
  {
   "cell_type": "code",
   "execution_count": null,
   "metadata": {},
   "outputs": [],
   "source": [
    "import math\n",
    "import os\n",
    "import random\n",
    "import re\n",
    "import sys\n",
    "\n",
    "\n",
    "\n",
    "\n",
    "first_multiple_input = input().rstrip().split()\n",
    "\n",
    "n = int(first_multiple_input[0])\n",
    "\n",
    "m = int(first_multiple_input[1])\n",
    "\n",
    "matrix = [[] for i in range(m)]\n",
    "\n",
    "for _ in range(n):\n",
    "    matrix_item = input()\n",
    "    for i in range(m):\n",
    "        matrix[i].append(matrix_item[i])\n",
    "\n",
    "norstring = \"\" \n",
    "\n",
    "for cols in matrix:\n",
    "    for item in cols:\n",
    "        norstring+=item\n",
    "\n",
    "#print(norstring)\n",
    "\n",
    "#norstring = \"This$#is% Matrix#  %!\"\n",
    "regexs = \"\"\"(?<=\\w)(\\W+)(?=\\w)\"\"\"\n",
    "\n",
    "new_string = re.sub(regexs, ' ', norstring) "
   ]
  },
  {
   "cell_type": "code",
   "execution_count": 4,
   "metadata": {},
   "outputs": [],
   "source": [
    "norstring = \"This$#is% Matrix#  %!\"\n",
    "regexs = \"\"\"(?<=\\w)(\\W+)(?=\\w)\"\"\"\n",
    "\n",
    "new_string = re.sub(regexs, ' ', norstring) "
   ]
  },
  {
   "cell_type": "code",
   "execution_count": 5,
   "metadata": {},
   "outputs": [
    {
     "output_type": "execute_result",
     "data": {
      "text/plain": [
       "'This is Matrix#  %!'"
      ]
     },
     "metadata": {},
     "execution_count": 5
    }
   ],
   "source": [
    "new_string"
   ]
  }
 ]
}