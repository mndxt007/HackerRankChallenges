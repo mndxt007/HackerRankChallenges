{
 "metadata": {
  "language_info": {
   "codemirror_mode": {
    "name": "ipython",
    "version": 3
   },
   "file_extension": ".py",
   "mimetype": "text/x-python",
   "name": "python",
   "nbconvert_exporter": "python",
   "pygments_lexer": "ipython3",
   "version": "3.8.2"
  },
  "orig_nbformat": 4,
  "kernelspec": {
   "name": "python3",
   "display_name": "Python 3.8.2 64-bit"
  },
  "interpreter": {
   "hash": "45867f42ff2337de82c22d4f73950fc203898d310634260cfe149a7f7cbe7910"
  }
 },
 "nbformat": 4,
 "nbformat_minor": 2,
 "cells": [
  {
   "cell_type": "code",
   "execution_count": null,
   "metadata": {},
   "outputs": [],
   "source": [
    "\"\"\"\n",
    "In this task, we would like for you to appreciate the usefulness of the groupby() function of itertools . To read more about this function, Check this out .\n",
    "\n",
    "You are given a string . Suppose a character '' occurs consecutively  times in the string. Replace these consecutive occurrences of the character '' with  in the string.\n",
    "\n",
    "For a better understanding of the problem, check the explanation.\n",
    "\n",
    "Input Format\n",
    "\n",
    "A single line of input consisting of the string .\n",
    "\n",
    "Output Format\n",
    "\n",
    "A single line of output consisting of the modified string.\n",
    "\n",
    "Constraints\n",
    "\n",
    "All the characters of  denote integers between  and .\n",
    "\n",
    "\n",
    "Sample Input\n",
    "\n",
    "1222311\n",
    "Sample Output\n",
    "\n",
    "(1, 1) (3, 2) (1, 3) (2, 1)\n",
    "Explanation\n",
    "\n",
    "First, the character  occurs only once. It is replaced by . Then the character  occurs three times, and it is replaced by  and so on.\n",
    "\n",
    "Also, note the single space within each compression and between the compressions.\n",
    "\"\"\""
   ]
  },
  {
   "cell_type": "code",
   "execution_count": null,
   "metadata": {},
   "outputs": [],
   "source": [
    "from itertools import groupby\n",
    "string = \"I Love Pythonnnnnnn\"\n",
    "s1 = groupby(string)\n",
    "string"
   ]
  },
  {
   "cell_type": "code",
   "execution_count": null,
   "metadata": {
    "tags": [
     "outputPrepend"
    ]
   },
   "outputs": [],
   "source": [
    "for item in s1:\n",
    "    print(item)\n",
    "    help(item)"
   ]
  },
  {
   "cell_type": "code",
   "execution_count": 16,
   "metadata": {},
   "outputs": [],
   "source": [
    "from itertools import groupby\n",
    "\n",
    "input2 = input(\"Enter\")\n",
    "\n",
    "grouped = groupby(input2)\n",
    "\n",
    "groups = []\n",
    "\n",
    "uniquekeys = []\n",
    "\n",
    "\n",
    "for eachitem,group in grouped:\n",
    "    #print(\"(\"+str(input2.count(eachitem[0]))+','+str(eachitem[0])+\")\")\n",
    "    groups.append(list(group))\n",
    "    uniquekeys.append(eachitem)"
   ]
  },
  {
   "cell_type": "code",
   "execution_count": 14,
   "metadata": {},
   "outputs": [
    {
     "output_type": "execute_result",
     "data": {
      "text/plain": [
       "['1', '2', '5', '6']"
      ]
     },
     "metadata": {},
     "execution_count": 14
    }
   ],
   "source": [
    "groups\n",
    "uniquekeys"
   ]
  },
  {
   "cell_type": "code",
   "execution_count": 21,
   "metadata": {},
   "outputs": [
    {
     "output_type": "stream",
     "name": "stdout",
     "text": [
      "(2, 1) (3, 2) (3, 3) (3, 4) (3, 1) "
     ]
    }
   ],
   "source": [
    "from itertools import groupby\n",
    "\n",
    "input2 = input()\n",
    "\n",
    "grouped = groupby(input2)\n",
    "\n",
    "\n",
    "for eachitem,group in grouped:\n",
    "    print(\"(\"+str(len(list(group)))+', '+str(eachitem)+\")\",end=' ')"
   ]
  }
 ]
}