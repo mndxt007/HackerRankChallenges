{
 "metadata": {
  "language_info": {
   "codemirror_mode": {
    "name": "ipython",
    "version": 3
   },
   "file_extension": ".py",
   "mimetype": "text/x-python",
   "name": "python",
   "nbconvert_exporter": "python",
   "pygments_lexer": "ipython3",
   "version": "3.8.2"
  },
  "orig_nbformat": 4,
  "kernelspec": {
   "name": "python3",
   "display_name": "Python 3.8.2 64-bit"
  },
  "interpreter": {
   "hash": "45867f42ff2337de82c22d4f73950fc203898d310634260cfe149a7f7cbe7910"
  }
 },
 "nbformat": 4,
 "nbformat_minor": 2,
 "cells": [
  {
   "cell_type": "code",
   "execution_count": null,
   "metadata": {},
   "outputs": [],
   "source": [
    "\"\"\"\n",
    "You are given an integer, . Your task is to print an alphabet rangoli of size . (Rangoli is a form of Indian folk art based on creation of patterns.)\n",
    "\n",
    "Different sizes of alphabet rangoli are shown below:\n",
    "\n",
    "#size 3\n",
    "\n",
    "----c----\n",
    "--c-b-c--\n",
    "c-b-a-b-c\n",
    "--c-b-c--\n",
    "----c----\n",
    "\n",
    "#size 5\n",
    "\n",
    "--------e--------\n",
    "------e-d-e------\n",
    "----e-d-c-d-e----\n",
    "--e-d-c-b-c-d-e--\n",
    "e-d-c-b-a-b-c-d-e\n",
    "--e-d-c-b-c-d-e--\n",
    "----e-d-c-d-e----\n",
    "------e-d-e------\n",
    "--------e--------\n",
    "\n",
    "#size 10\n",
    "\n",
    "------------------j------------------\n",
    "----------------j-i-j----------------\n",
    "--------------j-i-h-i-j--------------\n",
    "------------j-i-h-g-h-i-j------------\n",
    "----------j-i-h-g-f-g-h-i-j----------\n",
    "--------j-i-h-g-f-e-f-g-h-i-j--------\n",
    "------j-i-h-g-f-e-d-e-f-g-h-i-j------\n",
    "----j-i-h-g-f-e-d-c-d-e-f-g-h-i-j----\n",
    "--j-i-h-g-f-e-d-c-b-c-d-e-f-g-h-i-j--\n",
    "j-i-h-g-f-e-d-c-b-a-b-c-d-e-f-g-h-i-j\n",
    "--j-i-h-g-f-e-d-c-b-c-d-e-f-g-h-i-j--\n",
    "----j-i-h-g-f-e-d-c-d-e-f-g-h-i-j----\n",
    "------j-i-h-g-f-e-d-e-f-g-h-i-j------\n",
    "--------j-i-h-g-f-e-f-g-h-i-j--------\n",
    "----------j-i-h-g-f-g-h-i-j----------\n",
    "------------j-i-h-g-h-i-j------------\n",
    "--------------j-i-h-i-j--------------\n",
    "----------------j-i-j----------------\n",
    "------------------j------------------\n",
    "The center of the rangoli has the first alphabet letter a, and the boundary has the  alphabet letter (in alphabetical order).\n",
    "\n",
    "Function Description\n",
    "\n",
    "Complete the rangoli function in the editor below.\n",
    "\n",
    "rangoli has the following parameters:\n",
    "\n",
    "int size: the size of the rangoli\n",
    "Returns\n",
    "\n",
    "string: a single string made up of each of the lines of the rangoli separated by a newline character (\\n)\n",
    "Input Format\n",
    "\n",
    "Only one line of input containing , the size of the rangoli.\n",
    "\n",
    "Constraints\n",
    "\n",
    "\n",
    "Sample Input\n",
    "\n",
    "5\n",
    "Sample Output\n",
    "\n",
    "--------e--------\n",
    "------e-d-e------\n",
    "----e-d-c-d-e----\n",
    "--e-d-c-b-c-d-e--\n",
    "e-d-c-b-a-b-c-d-e\n",
    "--e-d-c-b-c-d-e--\n",
    "----e-d-c-d-e----\n",
    "------e-d-e------\n",
    "--------e--------\n",
    "\"\"\""
   ]
  },
  {
   "cell_type": "code",
   "execution_count": 1,
   "metadata": {},
   "outputs": [
    {
     "output_type": "stream",
     "name": "stdout",
     "text": [
      "----------------------Complete AWS Certification this week---------------------\nComplete AWS Certification this week-------------------------------------------\n-------------------------------------------Complete AWS Certification this week\n"
     ]
    }
   ],
   "source": [
    "#Trying string alignments\n",
    "\n",
    "samplestring = \"\"\"Complete AWS Certification this week\"\"\"\n",
    "\n",
    "print(samplestring.center(79,'-'))\n",
    "print(samplestring.ljust(79,'-'))\n",
    "print(samplestring.rjust(79,'-'))"
   ]
  },
  {
   "cell_type": "code",
   "execution_count": 18,
   "metadata": {},
   "outputs": [],
   "source": [
    "import string\n",
    "from collections import defaultdict\n",
    "\n",
    "num2alpha = dict(zip(range(1, 27), string.ascii_lowercase))\n",
    "\n",
    "num2alpha2 = {}\n",
    "\n",
    "for key,value in num2alpha.items():\n",
    "    num2alpha2[-key] = value"
   ]
  },
  {
   "cell_type": "code",
   "execution_count": 2,
   "metadata": {},
   "outputs": [
    {
     "output_type": "stream",
     "name": "stdout",
     "text": [
      "9 17\n"
     ]
    }
   ],
   "source": [
    "s1 = int(input())\n",
    "numrows = (s1*2)-1\n",
    "numcols = (numrows * 2)-1\n",
    "print(numrows,numcols)\n",
    "\n",
    "looprow = dict()\n",
    "\n",
    "for linenum in range(1,numrows+1):\n",
    "    if linenum == 1:\n",
    "        looprow[linenum] = 1\n",
    "    elif linenum <= (numrows//2+1):\n",
    "        looprow[linenum] = looprow[linenum-1]+2\n",
    "    else:\n",
    "        looprow[linenum] = looprow[numrows-linenum+1]"
   ]
  },
  {
   "cell_type": "code",
   "execution_count": 56,
   "metadata": {},
   "outputs": [
    {
     "output_type": "stream",
     "name": "stdout",
     "text": [
      "--------e--------\n------e-d-e------\n----e-d-c-d-e----\n--e-d-c-b-c-d-e--\ne-d-c-b-a-b-c-d-e\n--e-d-c-b-c-d-e--\n----e-d-c-d-e----\n------e-d-e------\n--------e--------\n"
     ]
    }
   ],
   "source": [
    "stringrow = \"\"\n",
    "\n",
    "try:\n",
    "    for linenum in range(1,numrows+1):\n",
    "        chari = s1\n",
    "        stringrow = \"\"\n",
    "        if looprow[linenum] == 1:\n",
    "                stringrow+=numalphafinal[s1]\n",
    "                stringrow+='-'\n",
    "                print(stringrow.center(numcols,'-'))\n",
    "        else:   \n",
    "            for printloop in range(1,looprow[linenum]+1):\n",
    "                if chari == 0:\n",
    "                    chari = 1\n",
    "                if printloop >= (looprow[linenum]+1)//2:\n",
    "                    stringrow+=numalphafinal[chari]\n",
    "                    stringrow+='-'\n",
    "                    chari+=1\n",
    "                else:\n",
    "                    stringrow+=numalphafinal[chari]\n",
    "                    stringrow+='-'\n",
    "                    chari-=1\n",
    "            #stringrow+='\\n'\n",
    "            print(stringrow.center(numcols,'-')[:17])\n",
    "except Exception as msg:\n",
    "    print(msg)\n",
    "    print(\"Line Number is\",linenum)\n",
    "    print(\"Number of loops for the line Number is\",looprow[linenum])\n",
    "    print('String is:',stringrow)\n",
    "    print(\"print loop is\",printloop)             "
   ]
  },
  {
   "cell_type": "code",
   "execution_count": 51,
   "metadata": {},
   "outputs": [
    {
     "output_type": "execute_result",
     "data": {
      "text/plain": [
       "2"
      ]
     },
     "metadata": {},
     "execution_count": 51
    }
   ],
   "source": [
    "numalphafinal = {**num2alpha,**num2alpha2} #join dictionary"
   ]
  },
  {
   "cell_type": "code",
   "execution_count": 1,
   "metadata": {},
   "outputs": [
    {
     "output_type": "stream",
     "name": "stdout",
     "text": [
      "------------------------------------------------y------------------------------------------------\n----------------------------------------------y-x-y----------------------------------------------\n--------------------------------------------y-x-w-x-y--------------------------------------------\n------------------------------------------y-x-w-v-w-x-y------------------------------------------\n----------------------------------------y-x-w-v-u-v-w-x-y----------------------------------------\n--------------------------------------y-x-w-v-u-t-u-v-w-x-y--------------------------------------\n------------------------------------y-x-w-v-u-t-s-t-u-v-w-x-y------------------------------------\n----------------------------------y-x-w-v-u-t-s-r-s-t-u-v-w-x-y----------------------------------\n--------------------------------y-x-w-v-u-t-s-r-q-r-s-t-u-v-w-x-y--------------------------------\n------------------------------y-x-w-v-u-t-s-r-q-p-q-r-s-t-u-v-w-x-y------------------------------\n----------------------------y-x-w-v-u-t-s-r-q-p-o-p-q-r-s-t-u-v-w-x-y----------------------------\n--------------------------y-x-w-v-u-t-s-r-q-p-o-n-o-p-q-r-s-t-u-v-w-x-y--------------------------\n------------------------y-x-w-v-u-t-s-r-q-p-o-n-m-n-o-p-q-r-s-t-u-v-w-x-y------------------------\n----------------------y-x-w-v-u-t-s-r-q-p-o-n-m-l-m-n-o-p-q-r-s-t-u-v-w-x-y----------------------\n--------------------y-x-w-v-u-t-s-r-q-p-o-n-m-l-k-l-m-n-o-p-q-r-s-t-u-v-w-x-y--------------------\n------------------y-x-w-v-u-t-s-r-q-p-o-n-m-l-k-j-k-l-m-n-o-p-q-r-s-t-u-v-w-x-y------------------\n----------------y-x-w-v-u-t-s-r-q-p-o-n-m-l-k-j-i-j-k-l-m-n-o-p-q-r-s-t-u-v-w-x-y----------------\n--------------y-x-w-v-u-t-s-r-q-p-o-n-m-l-k-j-i-h-i-j-k-l-m-n-o-p-q-r-s-t-u-v-w-x-y--------------\n------------y-x-w-v-u-t-s-r-q-p-o-n-m-l-k-j-i-h-g-h-i-j-k-l-m-n-o-p-q-r-s-t-u-v-w-x-y------------\n----------y-x-w-v-u-t-s-r-q-p-o-n-m-l-k-j-i-h-g-f-g-h-i-j-k-l-m-n-o-p-q-r-s-t-u-v-w-x-y----------\n--------y-x-w-v-u-t-s-r-q-p-o-n-m-l-k-j-i-h-g-f-e-f-g-h-i-j-k-l-m-n-o-p-q-r-s-t-u-v-w-x-y--------\n------y-x-w-v-u-t-s-r-q-p-o-n-m-l-k-j-i-h-g-f-e-d-e-f-g-h-i-j-k-l-m-n-o-p-q-r-s-t-u-v-w-x-y------\n----y-x-w-v-u-t-s-r-q-p-o-n-m-l-k-j-i-h-g-f-e-d-c-d-e-f-g-h-i-j-k-l-m-n-o-p-q-r-s-t-u-v-w-x-y----\n--y-x-w-v-u-t-s-r-q-p-o-n-m-l-k-j-i-h-g-f-e-d-c-b-c-d-e-f-g-h-i-j-k-l-m-n-o-p-q-r-s-t-u-v-w-x-y--\ny-x-w-v-u-t-s-r-q-p-o-n-m-l-k-j-i-h-g-f-e-d-c-b-a-b-c-d-e-f-g-h-i-j-k-l-m-n-o-p-q-r-s-t-u-v-w-x-y\n--y-x-w-v-u-t-s-r-q-p-o-n-m-l-k-j-i-h-g-f-e-d-c-b-c-d-e-f-g-h-i-j-k-l-m-n-o-p-q-r-s-t-u-v-w-x-y--\n----y-x-w-v-u-t-s-r-q-p-o-n-m-l-k-j-i-h-g-f-e-d-c-d-e-f-g-h-i-j-k-l-m-n-o-p-q-r-s-t-u-v-w-x-y----\n------y-x-w-v-u-t-s-r-q-p-o-n-m-l-k-j-i-h-g-f-e-d-e-f-g-h-i-j-k-l-m-n-o-p-q-r-s-t-u-v-w-x-y------\n--------y-x-w-v-u-t-s-r-q-p-o-n-m-l-k-j-i-h-g-f-e-f-g-h-i-j-k-l-m-n-o-p-q-r-s-t-u-v-w-x-y--------\n----------y-x-w-v-u-t-s-r-q-p-o-n-m-l-k-j-i-h-g-f-g-h-i-j-k-l-m-n-o-p-q-r-s-t-u-v-w-x-y----------\n------------y-x-w-v-u-t-s-r-q-p-o-n-m-l-k-j-i-h-g-h-i-j-k-l-m-n-o-p-q-r-s-t-u-v-w-x-y------------\n--------------y-x-w-v-u-t-s-r-q-p-o-n-m-l-k-j-i-h-i-j-k-l-m-n-o-p-q-r-s-t-u-v-w-x-y--------------\n----------------y-x-w-v-u-t-s-r-q-p-o-n-m-l-k-j-i-j-k-l-m-n-o-p-q-r-s-t-u-v-w-x-y----------------\n------------------y-x-w-v-u-t-s-r-q-p-o-n-m-l-k-j-k-l-m-n-o-p-q-r-s-t-u-v-w-x-y------------------\n--------------------y-x-w-v-u-t-s-r-q-p-o-n-m-l-k-l-m-n-o-p-q-r-s-t-u-v-w-x-y--------------------\n----------------------y-x-w-v-u-t-s-r-q-p-o-n-m-l-m-n-o-p-q-r-s-t-u-v-w-x-y----------------------\n------------------------y-x-w-v-u-t-s-r-q-p-o-n-m-n-o-p-q-r-s-t-u-v-w-x-y------------------------\n--------------------------y-x-w-v-u-t-s-r-q-p-o-n-o-p-q-r-s-t-u-v-w-x-y--------------------------\n----------------------------y-x-w-v-u-t-s-r-q-p-o-p-q-r-s-t-u-v-w-x-y----------------------------\n------------------------------y-x-w-v-u-t-s-r-q-p-q-r-s-t-u-v-w-x-y------------------------------\n--------------------------------y-x-w-v-u-t-s-r-q-r-s-t-u-v-w-x-y--------------------------------\n----------------------------------y-x-w-v-u-t-s-r-s-t-u-v-w-x-y----------------------------------\n------------------------------------y-x-w-v-u-t-s-t-u-v-w-x-y------------------------------------\n--------------------------------------y-x-w-v-u-t-u-v-w-x-y--------------------------------------\n----------------------------------------y-x-w-v-u-v-w-x-y----------------------------------------\n------------------------------------------y-x-w-v-w-x-y------------------------------------------\n--------------------------------------------y-x-w-x-y--------------------------------------------\n----------------------------------------------y-x-y----------------------------------------------\n------------------------------------------------y------------------------------------------------\n"
     ]
    }
   ],
   "source": [
    "import string\n",
    "\n",
    "num2alpha = dict(zip(range(1, 27), string.ascii_lowercase))\n",
    "s1 = int(input())\n",
    "numrows = (s1*2)-1\n",
    "numcols = (numrows * 2)-1\n",
    "\n",
    "looprow = dict()\n",
    "\n",
    "for linenum in range(1,numrows+1):\n",
    "    if linenum == 1:\n",
    "        looprow[linenum] = 1\n",
    "    elif linenum <= (numrows//2+1):\n",
    "        looprow[linenum] = looprow[linenum-1]+2\n",
    "    else:\n",
    "        looprow[linenum] = looprow[numrows-linenum+1]\n",
    "for linenum in range(1,numrows+1):\n",
    "        chari = s1\n",
    "        stringrow = \"\"\n",
    "        if looprow[linenum] == 1:\n",
    "                stringrow+=num2alpha[s1]\n",
    "                #stringrow+='-'\n",
    "                print(stringrow.center(numcols,'-'))\n",
    "        else:   \n",
    "            for printloop in range(1,looprow[linenum]+1):\n",
    "                if chari == 0:\n",
    "                    chari = 1\n",
    "                if printloop >= (looprow[linenum]+1)//2:\n",
    "                    stringrow+=num2alpha[chari]\n",
    "                    stringrow+='-'\n",
    "                    chari+=1\n",
    "                else:\n",
    "                    stringrow+=num2alpha[chari]\n",
    "                    stringrow+='-'\n",
    "                    chari-=1\n",
    "            print(stringrow.center(numcols,'-')[:numcols])"
   ]
  },
  {
   "cell_type": "code",
   "execution_count": 63,
   "metadata": {},
   "outputs": [
    {
     "output_type": "stream",
     "name": "stdout",
     "text": [
      "--------e--------\n------e-d-e------\n----e-d-c-d-e----\n--e-d-c-b-c-d-e--\ne-d-c-b-a-b-c-d-e\n--e-d-c-b-c-d-e--\n----e-d-c-d-e----\n------e-d-e------\n--------e--------\n"
     ]
    }
   ],
   "source": [
    "def print_rangoli(size):\n",
    "    alp = 'abcdefghijklmnopqrstuvwxyz'\n",
    "    for i in range(size-1,-size,-1):\n",
    "        temp = '-'.join(alp[size-1:abs(i):-1]+alp[abs(i):size])\n",
    "        print(temp.center(4*size-3,'-'))\n",
    "\n",
    "print_rangoli(5)"
   ]
  }
 ]
}