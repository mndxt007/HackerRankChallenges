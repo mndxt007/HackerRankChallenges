{
 "cells": [
  {
   "cell_type": "code",
   "execution_count": 1,
   "source": [
    "2^4"
   ],
   "outputs": [
    {
     "output_type": "execute_result",
     "data": {
      "text/plain": [
       "6"
      ]
     },
     "metadata": {},
     "execution_count": 1
    }
   ],
   "metadata": {}
  },
  {
   "cell_type": "code",
   "execution_count": 2,
   "source": [
    "\"ababa\".count(\"aba\")"
   ],
   "outputs": [
    {
     "output_type": "execute_result",
     "data": {
      "text/plain": [
       "1"
      ]
     },
     "metadata": {},
     "execution_count": 2
    }
   ],
   "metadata": {}
  },
  {
   "cell_type": "code",
   "execution_count": 23,
   "source": [
    "import re\r\n",
    "\r\n",
    "s = \"ababa\"\r\n",
    "matches = re.finditer(r'(?=(.*?)(a)(.*?)(b)(.*?)(a)(.*?))',s)\r\n",
    "results = [match.group(1) for match in matches]\r\n",
    "results"
   ],
   "outputs": [
    {
     "output_type": "execute_result",
     "data": {
      "text/plain": [
       "['', 'b', '']"
      ]
     },
     "metadata": {},
     "execution_count": 23
    }
   ],
   "metadata": {}
  },
  {
   "cell_type": "code",
   "execution_count": 29,
   "source": [
    "print(len(re.findall('(?=.*?a.*?b.*?a.*?)','ababababa')))"
   ],
   "outputs": [
    {
     "output_type": "stream",
     "name": "stdout",
     "text": [
      "7\n"
     ]
    }
   ],
   "metadata": {}
  },
  {
   "cell_type": "code",
   "execution_count": 30,
   "source": [
    "def count_substring(string, sub_string):\r\n",
    "    count=0\r\n",
    "    beg=0\r\n",
    "    while(string.find(sub_string,beg)!=-1) :\r\n",
    "        count=count+1\r\n",
    "        beg=string.find(sub_string,beg)\r\n",
    "        beg=beg+1\r\n",
    "    return count"
   ],
   "outputs": [],
   "metadata": {}
  },
  {
   "cell_type": "code",
   "execution_count": 31,
   "source": [
    "count_substring(\"ababa\",\"aba\")"
   ],
   "outputs": [
    {
     "output_type": "execute_result",
     "data": {
      "text/plain": [
       "2"
      ]
     },
     "metadata": {},
     "execution_count": 31
    }
   ],
   "metadata": {}
  },
  {
   "cell_type": "code",
   "execution_count": null,
   "source": [
    "ababa"
   ],
   "outputs": [],
   "metadata": {}
  }
 ],
 "metadata": {
  "orig_nbformat": 4,
  "language_info": {
   "name": "python",
   "version": "3.8.2",
   "mimetype": "text/x-python",
   "codemirror_mode": {
    "name": "ipython",
    "version": 3
   },
   "pygments_lexer": "ipython3",
   "nbconvert_exporter": "python",
   "file_extension": ".py"
  },
  "kernelspec": {
   "name": "python3",
   "display_name": "Python 3.8.2 64-bit"
  },
  "interpreter": {
   "hash": "45867f42ff2337de82c22d4f73950fc203898d310634260cfe149a7f7cbe7910"
  }
 },
 "nbformat": 4,
 "nbformat_minor": 2
}