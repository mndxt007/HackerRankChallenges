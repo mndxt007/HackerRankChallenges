{
 "metadata": {
  "language_info": {
   "codemirror_mode": {
    "name": "ipython",
    "version": 3
   },
   "file_extension": ".py",
   "mimetype": "text/x-python",
   "name": "python",
   "nbconvert_exporter": "python",
   "pygments_lexer": "ipython3",
   "version": "3.8.2"
  },
  "orig_nbformat": 4,
  "kernelspec": {
   "name": "python3",
   "display_name": "Python 3.8.2 64-bit"
  },
  "interpreter": {
   "hash": "45867f42ff2337de82c22d4f73950fc203898d310634260cfe149a7f7cbe7910"
  }
 },
 "nbformat": 4,
 "nbformat_minor": 2,
 "cells": [
  {
   "cell_type": "code",
   "execution_count": null,
   "metadata": {},
   "outputs": [],
   "source": [
    "\"\"\"\n",
    "The defaultdict tool is a container in the collections class of Python. It's similar to the usual dictionary (dict) container, but the only difference is that a defaultdict will have a default value if that key has not been set yet. If you didn't use a defaultdict you'd have to check to see if that key exists, and if it doesn't, set it to what you want.\n",
    "For example:\n",
    "\n",
    "from collections import defaultdict\n",
    "d = defaultdict(list)\n",
    "d['python'].append(\"awesome\")\n",
    "d['something-else'].append(\"not relevant\")\n",
    "d['python'].append(\"language\")\n",
    "for i in d.items():\n",
    "    print i\n",
    "This prints:\n",
    "\n",
    "('python', ['awesome', 'language'])\n",
    "('something-else', ['not relevant'])\n",
    "In this challenge, you will be given  integers,  and . There are  words, which might repeat, in word group . There are  words belonging to word group . For each  words, check whether the word has appeared in group  or not. Print the indices of each occurrence of  in group . If it does not appear, print .\n",
    "\n",
    "Example\n",
    "\n",
    "Group A contains 'a', 'b', 'a' Group B contains 'a', 'c'\n",
    "\n",
    "For the first word in group B, 'a', it appears at positions  and  in group A. The second word, 'c', does not appear in group A, so print .\n",
    "\n",
    "Expected output:\n",
    "\n",
    "1 3\n",
    "-1\n",
    "Input Format\n",
    "\n",
    "The first line contains integers,  and  separated by a space.\n",
    "The next  lines contains the words belonging to group .\n",
    "The next  lines contains the words belonging to group .\n",
    "\n",
    "Constraints\n",
    "\n",
    "\n",
    "\n",
    "\n",
    "Output Format\n",
    "\n",
    "Output  lines.\n",
    "The  line should contain the -indexed positions of the occurrences of the  word separated by spaces.\n",
    "\n",
    "Sample Input\n",
    "\n",
    "STDIN   Function\n",
    "-----   --------\n",
    "5 2     group A size n = 5, group B size m = 2\n",
    "a       group A contains 'a', 'a', 'b', 'a', 'b'\n",
    "a\n",
    "b\n",
    "a\n",
    "b\n",
    "a       group B contains 'a', 'b'\n",
    "b\n",
    "Sample Output\n",
    "\n",
    "1 2 4\n",
    "3 5\n",
    "Explanation\n",
    "\n",
    "'a' appeared  times in positions ,  and .\n",
    "'b' appeared  times in positions  and .\n",
    "In the sample problem, if 'c' also appeared in word group , you would print .\n",
    "\n",
    "\"\"\""
   ]
  },
  {
   "cell_type": "code",
   "execution_count": 23,
   "metadata": {},
   "outputs": [
    {
     "output_type": "stream",
     "name": "stdout",
     "text": [
      "1 2 4 \n3 5 \n-1\n"
     ]
    }
   ],
   "source": [
    "from collections import defaultdict\n",
    "\n",
    "n,m = input().split(' ')\n",
    "\n",
    "groups = defaultdict(list)\n",
    "\n",
    "for i in range(int(n)):\n",
    "    groups['a'].append(input())\n",
    "\n",
    "for i in range(int(m)):\n",
    "    groups['b'].append(input())\n",
    "\n",
    "for itemb in groups['b']:\n",
    "    if itemb in groups['a']:\n",
    "        for indexa in range(len(groups['a'])):\n",
    "            if itemb == groups['a'][indexa]:\n",
    "                print(indexa+1,end=' ')\n",
    "    else:\n",
    "        print(-1,end='')\n",
    "    print('\\n',end='')\n"
   ]
  },
  {
   "cell_type": "code",
   "execution_count": 8,
   "metadata": {},
   "outputs": [
    {
     "output_type": "execute_result",
     "data": {
      "text/plain": [
       "defaultdict(list, {'a': ['a', 'a', 'b', 'a', 'b'], 'b': ['a', 'b']})"
      ]
     },
     "metadata": {},
     "execution_count": 8
    }
   ],
   "source": [
    "groups"
   ]
  },
  {
   "cell_type": "code",
   "execution_count": 9,
   "metadata": {},
   "outputs": [],
   "source": [
    "a = [1,2,3]"
   ]
  },
  {
   "cell_type": "code",
   "execution_count": 15,
   "metadata": {},
   "outputs": [
    {
     "output_type": "execute_result",
     "data": {
      "text/plain": [
       "3"
      ]
     },
     "metadata": {},
     "execution_count": 15
    }
   ],
   "source": [
    "len(a)"
   ]
  },
  {
   "cell_type": "code",
   "execution_count": null,
   "metadata": {},
   "outputs": [],
   "source": []
  }
 ]
}